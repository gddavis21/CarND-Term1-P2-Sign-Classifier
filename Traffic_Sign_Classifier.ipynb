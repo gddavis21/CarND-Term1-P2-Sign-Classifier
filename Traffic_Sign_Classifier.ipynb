{
 "cells": [
  {
   "cell_type": "markdown",
   "metadata": {},
   "source": [
    "# Self-Driving Car Engineer Nanodegree\n",
    "\n",
    "## Deep Learning\n",
    "\n",
    "## Project: Build a Traffic Sign Recognition Classifier\n",
    "\n",
    "In this notebook, a template is provided for you to implement your functionality in stages, which is required to successfully complete this project. If additional code is required that cannot be included in the notebook, be sure that the Python code is successfully imported and included in your submission if necessary. \n",
    "\n",
    "> **Note**: Once you have completed all of the code implementations, you need to finalize your work by exporting the iPython Notebook as an HTML document. Before exporting the notebook to html, all of the code cells need to have been run so that reviewers can see the final implementation and output. You can then export the notebook by using the menu above and navigating to  \\n\",\n",
    "    \"**File -> Download as -> HTML (.html)**. Include the finished document along with this notebook as your submission. \n",
    "\n",
    "In addition to implementing code, there is a writeup to complete. The writeup should be completed in a separate file, which can be either a markdown file or a pdf document. There is a [write up template](https://github.com/udacity/CarND-Traffic-Sign-Classifier-Project/blob/master/writeup_template.md) that can be used to guide the writing process. Completing the code template and writeup template will cover all of the [rubric points](https://review.udacity.com/#!/rubrics/481/view) for this project.\n",
    "\n",
    "The [rubric](https://review.udacity.com/#!/rubrics/481/view) contains \"Stand Out Suggestions\" for enhancing the project beyond the minimum requirements. The stand out suggestions are optional. If you decide to pursue the \"stand out suggestions\", you can include the code in this Ipython notebook and also discuss the results in the writeup file.\n",
    "\n",
    "\n",
    ">**Note:** Code and Markdown cells can be executed using the **Shift + Enter** keyboard shortcut. In addition, Markdown cells can be edited by typically double-clicking the cell to enter edit mode."
   ]
  },
  {
   "cell_type": "markdown",
   "metadata": {},
   "source": [
    "---\n",
    "## Step 0: Load The Data"
   ]
  },
  {
   "cell_type": "code",
   "execution_count": 1,
   "metadata": {},
   "outputs": [],
   "source": [
    "# Load pickled data\n",
    "import pickle\n",
    "\n",
    "# TODO: Fill this in based on where you saved the training and testing data\n",
    "\n",
    "training_file = '../traffic-sign-data/train.p'\n",
    "validation_file = '../traffic-sign-data/valid.p'\n",
    "testing_file = '../traffic-sign-data/test.p'\n",
    "\n",
    "with open(training_file, mode='rb') as f:\n",
    "    train = pickle.load(f)\n",
    "with open(validation_file, mode='rb') as f:\n",
    "    valid = pickle.load(f)\n",
    "with open(testing_file, mode='rb') as f:\n",
    "    test = pickle.load(f)\n",
    "    \n",
    "X_train_orig, y_train = train['features'], train['labels']\n",
    "X_valid_orig, y_valid = valid['features'], valid['labels']\n",
    "X_test_orig, y_test = test['features'], test['labels']"
   ]
  },
  {
   "cell_type": "markdown",
   "metadata": {},
   "source": [
    "---\n",
    "\n",
    "## Step 1: Dataset Summary & Exploration\n",
    "\n",
    "The pickled data is a dictionary with 4 key/value pairs:\n",
    "\n",
    "- `'features'` is a 4D array containing raw pixel data of the traffic sign images, (num examples, width, height, channels).\n",
    "- `'labels'` is a 1D array containing the label/class id of the traffic sign. The file `signnames.csv` contains id -> name mappings for each id.\n",
    "- `'sizes'` is a list containing tuples, (width, height) representing the original width and height the image.\n",
    "- `'coords'` is a list containing tuples, (x1, y1, x2, y2) representing coordinates of a bounding box around the sign in the image. **THESE COORDINATES ASSUME THE ORIGINAL IMAGE. THE PICKLED DATA CONTAINS RESIZED VERSIONS (32 by 32) OF THESE IMAGES**\n",
    "\n",
    "Complete the basic data summary below. Use python, numpy and/or pandas methods to calculate the data summary rather than hard coding the results. For example, the [pandas shape method](http://pandas.pydata.org/pandas-docs/stable/generated/pandas.DataFrame.shape.html) might be useful for calculating some of the summary results. "
   ]
  },
  {
   "cell_type": "markdown",
   "metadata": {},
   "source": [
    "### Provide a Basic Summary of the Data Set Using Python, Numpy and/or Pandas"
   ]
  },
  {
   "cell_type": "code",
   "execution_count": 2,
   "metadata": {},
   "outputs": [
    {
     "name": "stdout",
     "output_type": "stream",
     "text": [
      "Number of training examples = 34799\n",
      "Number of validation examples =  4410\n",
      "Number of testing examples = 12630\n",
      "Image data shape = (32, 32, 3)\n",
      "Number of classes = 43\n"
     ]
    }
   ],
   "source": [
    "### Replace each question mark with the appropriate value. \n",
    "### Use python, pandas or numpy methods rather than hard coding the results\n",
    "import csv\n",
    "import numpy as np\n",
    "\n",
    "# TODO: Number of training examples\n",
    "n_train = X_train_orig.shape[0]\n",
    "\n",
    "# TODO: Number of validation examples\n",
    "n_validation = X_valid_orig.shape[0]\n",
    "\n",
    "# TODO: Number of testing examples.\n",
    "n_test = X_test_orig.shape[0]\n",
    "\n",
    "# TODO: What's the shape of an traffic sign image?\n",
    "image_shape = X_train_orig.shape[1:]\n",
    "\n",
    "# TODO: How many unique classes/labels there are in the dataset.\n",
    "sign_names = {}\n",
    "with open('signnames.csv', newline='') as f:\n",
    "    names_reader = csv.reader(f)\n",
    "    next(names_reader)  # skip header\n",
    "    for row in names_reader:\n",
    "        sign_names[int(row[0])] = row[1]\n",
    "        \n",
    "n_classes = len(sign_names)\n",
    "\n",
    "print(\"Number of training examples =\", n_train)\n",
    "print(\"Number of validation examples = \", n_validation)\n",
    "print(\"Number of testing examples =\", n_test)\n",
    "print(\"Image data shape =\", image_shape)\n",
    "print(\"Number of classes =\", n_classes)"
   ]
  },
  {
   "cell_type": "markdown",
   "metadata": {},
   "source": [
    "### Include an exploratory visualization of the dataset"
   ]
  },
  {
   "cell_type": "markdown",
   "metadata": {},
   "source": [
    "Visualize the German Traffic Signs Dataset using the pickled file(s). This is open ended, suggestions include: plotting traffic sign images, plotting the count of each sign, etc. \n",
    "\n",
    "The [Matplotlib](http://matplotlib.org/) [examples](http://matplotlib.org/examples/index.html) and [gallery](http://matplotlib.org/gallery.html) pages are a great resource for doing visualizations in Python.\n",
    "\n",
    "**NOTE:** It's recommended you start with something simple first. If you wish to do more, come back to it after you've completed the rest of the sections. It can be interesting to look at the distribution of classes in the training, validation and test set. Is the distribution the same? Are there more examples of some classes than others?"
   ]
  },
  {
   "cell_type": "code",
   "execution_count": 3,
   "metadata": {},
   "outputs": [],
   "source": [
    "### Data exploration visualization code goes here.\n",
    "### Feel free to use as many code cells as needed.\n",
    "import matplotlib.pyplot as plt\n",
    "# Visualizations will be shown in the notebook.\n",
    "%matplotlib inline"
   ]
  },
  {
   "cell_type": "markdown",
   "metadata": {},
   "source": [
    "Displaying below the class histograms for the training, validation and test data sets. Although the distributions of each subset appear nearly identical, around 50% of the classes have substantially lower frequency than others. This could lead to higher prediction uncertainty for the under-represented classes."
   ]
  },
  {
   "cell_type": "code",
   "execution_count": 4,
   "metadata": {},
   "outputs": [
    {
     "name": "stdout",
     "output_type": "stream",
     "text": [
      "Class histograms:\n"
     ]
    },
    {
     "data": {
      "image/png": "[encoded data removed]",
      "text/plain": [
       "<matplotlib.figure.Figure at 0x2026f9e5f28>"
      ]
     },
     "metadata": {},
     "output_type": "display_data"
    }
   ],
   "source": [
    "print('Class histograms:')\n",
    "fig, axes = plt.subplots(nrows=3, ncols=1)\n",
    "n, bins, patches = axes[0].hist(y_train, bins=n_classes)\n",
    "axes[0].set_title('training')\n",
    "n, bins, patches = axes[1].hist(y_valid, bins=n_classes)\n",
    "axes[1].set_title('validation')\n",
    "n, bins, patches = axes[2].hist(y_test, bins=n_classes)\n",
    "axes[2].set_title('test')\n",
    "plt.tight_layout()\n"
   ]
  },
  {
   "cell_type": "markdown",
   "metadata": {},
   "source": [
    "Displaying below a simple random sampling of 9 images from the training set. First impressions:\n",
    "  * Sign sizes and positions are fairly consistent\n",
    "  * Signs are well centered in the images\n",
    "  * A variety of lighting conditions are included"
   ]
  },
  {
   "cell_type": "code",
   "execution_count": 5,
   "metadata": {},
   "outputs": [
    {
     "name": "stdout",
     "output_type": "stream",
     "text": [
      "Example images:\n"
     ]
    },
    {
     "data": {
      "image/png": "[encoded data removed]",
      "text/plain": [
       "<matplotlib.figure.Figure at 0x2026f28eb38>"
      ]
     },
     "metadata": {},
     "output_type": "display_data"
    }
   ],
   "source": [
    "import random\n",
    "import numpy as np\n",
    "import matplotlib.pyplot as plt\n",
    "%matplotlib inline\n",
    "\n",
    "print('Example images:')\n",
    "for i in range(1,10):\n",
    "    plt.subplot(3, 3, i)\n",
    "    plt.imshow(X_train_orig[random.randint(0, n_train)])\n"
   ]
  },
  {
   "cell_type": "markdown",
   "metadata": {},
   "source": [
    "----\n",
    "\n",
    "## Step 2: Design and Test a Model Architecture\n",
    "\n",
    "Design and implement a deep learning model that learns to recognize traffic signs. Train and test your model on the [German Traffic Sign Dataset](http://benchmark.ini.rub.de/?section=gtsrb&subsection=dataset).\n",
    "\n",
    "The LeNet-5 implementation shown in the [classroom](https://classroom.udacity.com/nanodegrees/nd013/parts/fbf77062-5703-404e-b60c-95b78b2f3f9e/modules/6df7ae49-c61c-4bb2-a23e-6527e69209ec/lessons/601ae704-1035-4287-8b11-e2c2716217ad/concepts/d4aca031-508f-4e0b-b493-e7b706120f81) at the end of the CNN lesson is a solid starting point. You'll have to change the number of classes and possibly the preprocessing, but aside from that it's plug and play! \n",
    "\n",
    "With the LeNet-5 solution from the lecture, you should expect a validation set accuracy of about 0.89. To meet specifications, the validation set accuracy will need to be at least 0.93. It is possible to get an even higher accuracy, but 0.93 is the minimum for a successful project submission. \n",
    "\n",
    "There are various aspects to consider when thinking about this problem:\n",
    "\n",
    "- Neural network architecture (is the network over or underfitting?)\n",
    "- Play around preprocessing techniques (normalization, rgb to grayscale, etc)\n",
    "- Number of examples per label (some have more than others).\n",
    "- Generate fake data.\n",
    "\n",
    "Here is an example of a [published baseline model on this problem](http://yann.lecun.com/exdb/publis/pdf/sermanet-ijcnn-11.pdf). It's not required to be familiar with the approach used in the paper but, it's good practice to try to read papers like these."
   ]
  },
  {
   "cell_type": "markdown",
   "metadata": {},
   "source": [
    "### Pre-process the Data Set (normalization, grayscale, etc.)"
   ]
  },
  {
   "cell_type": "markdown",
   "metadata": {},
   "source": [
    "Minimally, the image data should be normalized so that the data has mean zero and equal variance. For image data, `(pixel - 128)/ 128` is a quick way to approximately normalize the data and can be used in this project. \n",
    "\n",
    "Other pre-processing steps are optional. You can try different techniques to see if it improves performance. \n",
    "\n",
    "Use the code cell (or multiple code cells, if necessary) to implement the first step of your project."
   ]
  },
  {
   "cell_type": "markdown",
   "metadata": {},
   "source": []
  },
  {
   "cell_type": "code",
   "execution_count": 6,
   "metadata": {},
   "outputs": [],
   "source": [
    "### Preprocess the data here. It is required to normalize the data. Other preprocessing steps could include \n",
    "### converting to grayscale, etc.\n",
    "### Feel free to use as many code cells as needed.\n",
    "import numpy as np\n",
    "import math\n",
    "import cv2\n",
    "from sklearn.utils import shuffle\n",
    "\n",
    "def preprocess_image(img):\n",
    "    mean = np.mean(img, axis=(0,1))\n",
    "    stdev = np.std(img, axis=(0,1))\n",
    "    numPixels = img.shape[0] * img.shape[1]\n",
    "    adj_stdev = np.maximum(stdev, math.sqrt(1.0/numPixels))\n",
    "    return (img.astype(np.float32) - mean) / adj_stdev\n",
    "    \n",
    "def preprocess_images(images):\n",
    "    return np.array([preprocess_image(img) for img in images])\n",
    "    \n",
    "X_train = preprocess_images(X_train_orig)\n",
    "X_valid = preprocess_images(X_valid_orig)\n",
    "X_test = preprocess_images(X_test_orig)\n"
   ]
  },
  {
   "cell_type": "markdown",
   "metadata": {},
   "source": [
    "### Model Architecture"
   ]
  },
  {
   "cell_type": "code",
   "execution_count": 7,
   "metadata": {},
   "outputs": [],
   "source": [
    "import tensorflow as tf\n",
    "from tensorflow.contrib.layers import flatten\n"
   ]
  },
  {
   "cell_type": "code",
   "execution_count": 8,
   "metadata": {},
   "outputs": [],
   "source": [
    "def my_conv2d(name, input, weights_shape, weight_decay, strides, padding):\n",
    "    '''\n",
    "    '''\n",
    "    fan_in = weights_shape[0] * weights_shape[1] * weights_shape[2]\n",
    "    sigma = (2.0/fan_in)**0.5\n",
    "    with tf.variable_scope(name):\n",
    "        w = tf.get_variable(\n",
    "            name='weights', \n",
    "            shape=weights_shape, \n",
    "            initializer=tf.random_normal_initializer(stddev=sigma))\n",
    "        if weight_decay is not None:\n",
    "            tf.add_to_collection('losses', tf.multiply(tf.nn.l2_loss(w), weight_decay))\n",
    "        b = tf.get_variable(\n",
    "            name='biases',\n",
    "            initializer=tf.zeros([weights_shape[3]]))\n",
    "        conv = tf.nn.conv2d(input, w, strides=strides, padding=padding)\n",
    "        return tf.nn.relu(tf.nn.bias_add(conv, b))\n",
    "    \n",
    "def my_fully_conn_nonlinear(name, input, weights_shape, weight_decay):\n",
    "    '''\n",
    "    '''\n",
    "    fan_in = weights_shape[0]\n",
    "    sigma = (2.0/fan_in)**0.5\n",
    "    with tf.variable_scope(name):\n",
    "        w = tf.get_variable(\n",
    "            name='weights', \n",
    "            shape=weights_shape, \n",
    "            initializer=tf.random_normal_initializer(stddev=sigma))\n",
    "        if weight_decay is not None:\n",
    "            tf.add_to_collection('losses', tf.multiply(tf.nn.l2_loss(w), weight_decay))\n",
    "        b = tf.get_variable(\n",
    "            name='biases',\n",
    "            initializer=tf.zeros([weights_shape[1]]))\n",
    "        return tf.nn.relu(tf.add(tf.matmul(input, w), b))\n",
    "    \n",
    "def my_fully_conn_linear(name, input, weights_shape, weight_decay):\n",
    "    '''\n",
    "    '''\n",
    "    fan_in = weights_shape[0]\n",
    "    sigma = (2.0/fan_in)**0.5\n",
    "    with tf.variable_scope(name):\n",
    "        w = tf.get_variable(\n",
    "            name='weights', \n",
    "            shape=weights_shape, \n",
    "            initializer=tf.random_normal_initializer(stddev=sigma))\n",
    "        if weight_decay is not None:\n",
    "            tf.add_to_collection('losses', tf.multiply(tf.nn.l2_loss(w), weight_decay))\n",
    "        b = tf.get_variable(\n",
    "            name='biases',\n",
    "            initializer=tf.zeros([weights_shape[1]]))\n",
    "        return tf.add(tf.matmul(input, w), b)\n",
    "    \n"
   ]
  },
  {
   "cell_type": "code",
   "execution_count": 9,
   "metadata": {},
   "outputs": [],
   "source": [
    "def inference(images, num_classes, weight_decay):    \n",
    "    '''\n",
    "    '''\n",
    "    x_image = tf.reshape(images, [-1, 32, 32, 3])\n",
    "    keep_prob = tf.placeholder(tf.float32)\n",
    "    \n",
    "    # Layer 1: Convolutional. Input = 32x32x3. Output = 28x28x32. RELU activation.\n",
    "    conv_1 = my_conv2d(\n",
    "        name='conv-1', \n",
    "        input=x_image, \n",
    "        weights_shape=[5,5,3,32], \n",
    "        weight_decay=weight_decay,\n",
    "        strides=[1,1,1,1], \n",
    "        padding='VALID')\n",
    "\n",
    "    # Pooling. Input = 28x28x32. Output = 14x14x32.\n",
    "    pool_1 = tf.nn.max_pool(\n",
    "        conv_1, \n",
    "        ksize=[1,2,2,1], \n",
    "        strides=[1,2,2,1], \n",
    "        padding='VALID')\n",
    "    \n",
    "    # Layer 2: Convolutional. Input = 14x14x32. Output = 14x14x64. RELU activation.\n",
    "    conv_2 = my_conv2d(\n",
    "        name='conv-2', \n",
    "        input=pool_1, \n",
    "        weights_shape=[5,5,32,64], \n",
    "        weight_decay=weight_decay,\n",
    "        strides=[1,1,1,1], \n",
    "        padding='SAME')\n",
    "\n",
    "    # Pooling. Input = 14x14x64. Output = 7x7x64.\n",
    "    pool_2 = tf.nn.max_pool(\n",
    "        conv_2, \n",
    "        ksize=[1,2,2,1], \n",
    "        strides=[1,2,2,1], \n",
    "        padding='VALID')\n",
    "    \n",
    "    # Flatten. Input = 7x7x64. Output = 3136.\n",
    "    flat_2 = flatten(pool_2)\n",
    "    \n",
    "    # Layer 3: Fully Connected. Input = 3136. Output = 1024. RELU activation.\n",
    "    fc_3 = my_fully_conn_nonlinear(\n",
    "        name='fc-3', \n",
    "        input=tf.nn.dropout(flat_2, keep_prob), \n",
    "        weights_shape=[7*7*64,1024],\n",
    "        weight_decay=weight_decay)\n",
    "    \n",
    "    # Layer 4: Fully Connected. Input = 1024. Output = 512. RELU activation.\n",
    "    fc_4 = my_fully_conn_nonlinear(\n",
    "        name='fc-4', \n",
    "        input=tf.nn.dropout(fc_3, keep_prob), \n",
    "        weights_shape=[1024,512],\n",
    "        weight_decay=weight_decay)\n",
    "    \n",
    "    # Layer 5: Fully connected. Input = 512. Output = 256. RELU activation.\n",
    "    fc_5 = my_fully_conn_nonlinear(\n",
    "        name='fc-5', \n",
    "        input=tf.nn.dropout(fc_4, keep_prob), \n",
    "        weights_shape=[512,256],\n",
    "        weight_decay=weight_decay)\n",
    "    \n",
    "    # Layer 5: Fully Connected. Input = 256. Output = 43.\n",
    "    logits = my_fully_conn_linear(\n",
    "        name='readout', \n",
    "        input=tf.nn.dropout(fc_5, keep_prob), \n",
    "        weights_shape=[256,num_classes],\n",
    "        weight_decay=weight_decay)\n",
    "        \n",
    "    return logits, keep_prob\n",
    "    "
   ]
  },
  {
   "cell_type": "code",
   "execution_count": 10,
   "metadata": {},
   "outputs": [],
   "source": [
    "def loss(logits, labels):\n",
    "    '''\n",
    "    '''\n",
    "    xentropy = tf.nn.softmax_cross_entropy_with_logits(labels=labels, logits=logits)\n",
    "    mean_xentropy = tf.reduce_mean(xentropy)\n",
    "    tf.add_to_collection('losses', mean_xentropy)\n",
    "    return tf.add_n(tf.get_collection('losses'))\n",
    "    \n",
    "def training(loss_op, learn_rate):\n",
    "    '''\n",
    "    '''\n",
    "    optimizer = tf.train.AdamOptimizer(learning_rate=learn_rate)\n",
    "    return optimizer.minimize(loss_op)\n",
    "\n",
    "def accuracy(logits, labels):\n",
    "    '''\n",
    "    '''\n",
    "    correct_prediction = tf.equal(tf.argmax(logits, 1), tf.argmax(labels, 1))\n",
    "    return tf.reduce_mean(tf.cast(correct_prediction, tf.float32))\n"
   ]
  },
  {
   "cell_type": "code",
   "execution_count": 11,
   "metadata": {},
   "outputs": [],
   "source": [
    "def do_eval(\n",
    "    sess, loss_op, accuracy_op, x, y, keep_prob,\n",
    "    X_data, y_data, batch_size):\n",
    "    '''\n",
    "    '''\n",
    "    total_loss = 0\n",
    "    total_accuracy = 0\n",
    "    for offset in range(0, len(X_data), batch_size):\n",
    "        end = offset + batch_size\n",
    "        batch_x, batch_y = X_data[offset:end], y_data[offset:end]\n",
    "        loss, accuracy = sess.run(\n",
    "            [loss_op, accuracy_op], \n",
    "            feed_dict={x: batch_x, y: batch_y, keep_prob: 1.0})\n",
    "        total_loss += loss\n",
    "        total_accuracy += (accuracy * len(batch_x))\n",
    "    return total_loss, total_accuracy / len(X_data)\n"
   ]
  },
  {
   "cell_type": "markdown",
   "metadata": {},
   "source": [
    "### Train, Validate and Test the Model"
   ]
  },
  {
   "cell_type": "markdown",
   "metadata": {},
   "source": [
    "A validation set can be used to assess how well the model is performing. A low accuracy on the training and validation\n",
    "sets imply underfitting. A high accuracy on the training set but low accuracy on the validation set implies overfitting."
   ]
  },
  {
   "cell_type": "code",
   "execution_count": 12,
   "metadata": {},
   "outputs": [],
   "source": [
    "### Train your model here.\n",
    "### Calculate and report the accuracy on the training and validation set.\n",
    "### Once a final model architecture is selected, \n",
    "### the accuracy on the test set should be calculated and reported as well.\n",
    "### Feel free to use as many code cells as needed."
   ]
  },
  {
   "cell_type": "code",
   "execution_count": 13,
   "metadata": {},
   "outputs": [],
   "source": [
    "NUM_EPOCHS = 20\n",
    "BATCH_SIZE = 128\n",
    "LEARN_RATE = 0.0003\n",
    "WEIGHT_DECAY_RATE = 0.003\n",
    "\n",
    "# classifier model\n",
    "x = tf.placeholder(tf.float32, (None, 32, 32, 3))\n",
    "y = tf.placeholder(tf.int32, (None))\n",
    "logits, keep_prob = inference(x, n_classes, WEIGHT_DECAY_RATE)\n",
    "labels = tf.one_hot(y, n_classes)\n",
    "\n",
    "# training\n",
    "loss_op = loss(logits, labels)\n",
    "train_op = training(loss_op, LEARN_RATE)\n",
    "\n",
    "# evaluation\n",
    "accuracy_op = accuracy(logits, labels)"
   ]
  },
  {
   "cell_type": "code",
   "execution_count": 14,
   "metadata": {},
   "outputs": [
    {
     "name": "stdout",
     "output_type": "stream",
     "text": [
      "Training...\n",
      "Epoch 1: loss = 2355.09, training accuracy = 0.185, validation accuracy = 0.174\n",
      "Epoch 2: loss = 1878.77, training accuracy = 0.388, validation accuracy = 0.351\n",
      "Epoch 3: loss = 1479.52, training accuracy = 0.526, validation accuracy = 0.459\n",
      "Epoch 4: loss = 1176.99, training accuracy = 0.674, validation accuracy = 0.612\n",
      "Epoch 5: loss = 908.58, training accuracy = 0.851, validation accuracy = 0.786\n",
      "Epoch 6: loss = 726.32, training accuracy = 0.917, validation accuracy = 0.876\n",
      "Epoch 7: loss = 607.88, training accuracy = 0.956, validation accuracy = 0.910\n",
      "Epoch 8: loss = 514.17, training accuracy = 0.975, validation accuracy = 0.929\n",
      "Epoch 9: loss = 443.49, training accuracy = 0.984, validation accuracy = 0.939\n",
      "Epoch 10: loss = 386.21, training accuracy = 0.991, validation accuracy = 0.948\n",
      "Epoch 11: loss = 338.43, training accuracy = 0.994, validation accuracy = 0.948\n",
      "Epoch 12: loss = 301.08, training accuracy = 0.996, validation accuracy = 0.959\n",
      "Epoch 13: loss = 270.09, training accuracy = 0.997, validation accuracy = 0.963\n",
      "Epoch 14: loss = 245.80, training accuracy = 0.997, validation accuracy = 0.961\n",
      "Epoch 15: loss = 227.04, training accuracy = 0.998, validation accuracy = 0.970\n",
      "Epoch 16: loss = 212.72, training accuracy = 0.998, validation accuracy = 0.964\n",
      "Epoch 17: loss = 200.69, training accuracy = 0.998, validation accuracy = 0.970\n",
      "Epoch 18: loss = 190.74, training accuracy = 0.998, validation accuracy = 0.966\n",
      "Epoch 19: loss = 183.79, training accuracy = 0.996, validation accuracy = 0.962\n",
      "Epoch 20: loss = 175.97, training accuracy = 0.998, validation accuracy = 0.966\n",
      "Training finished\n",
      "\n",
      "Test Accuracy = 0.960\n",
      "Model saved\n"
     ]
    }
   ],
   "source": [
    "saver = tf.train.Saver()\n",
    "\n",
    "with tf.Session() as sess:\n",
    "\n",
    "    sess.run(tf.global_variables_initializer())\n",
    "    print(\"Training...\")\n",
    "\n",
    "    for i in range(NUM_EPOCHS):\n",
    "        X_train, y_train = shuffle(X_train, y_train)\n",
    "\n",
    "        for offset in range(0, len(X_train), BATCH_SIZE):\n",
    "            end = offset + BATCH_SIZE\n",
    "            batch_x, batch_y = X_train[offset:end], y_train[offset:end]\n",
    "            sess.run(train_op, feed_dict={x: batch_x, y: batch_y, keep_prob: 0.4})\n",
    "            \n",
    "        train_loss, train_accuracy = do_eval(\n",
    "            sess, loss_op, accuracy_op, x, y, keep_prob,\n",
    "            X_train, y_train, BATCH_SIZE)\n",
    "            \n",
    "        _, valid_accuracy = do_eval(\n",
    "            sess, loss_op, accuracy_op, x, y, keep_prob,\n",
    "            X_valid, y_valid, BATCH_SIZE)\n",
    "        \n",
    "        print('Epoch %d: loss = %.2f, training accuracy = %.3f, validation accuracy = %.3f' % (i+1, train_loss, train_accuracy, valid_accuracy))\n",
    "\n",
    "    print(\"Training finished\")\n",
    "    print()\n",
    "    \n",
    "    _, test_accuracy = do_eval(\n",
    "        sess, loss_op, accuracy_op, x, y, keep_prob,\n",
    "        X_test, y_test, BATCH_SIZE)\n",
    "    \n",
    "    print(\"Test Accuracy = {:.3f}\".format(test_accuracy))\n",
    "    \n",
    "    saver.save(sess, './traffic-signs-model')\n",
    "    print(\"Model saved\")"
   ]
  },
  {
   "cell_type": "code",
   "execution_count": null,
   "metadata": {},
   "outputs": [],
   "source": []
  },
  {
   "cell_type": "markdown",
   "metadata": {},
   "source": [
    "---\n",
    "\n",
    "## Step 3: Test a Model on New Images\n",
    "\n",
    "To give yourself more insight into how your model is working, download at least five pictures of German traffic signs from the web and use your model to predict the traffic sign type.\n",
    "\n",
    "You may find `signnames.csv` useful as it contains mappings from the class id (integer) to the actual sign name."
   ]
  },
  {
   "cell_type": "markdown",
   "metadata": {},
   "source": [
    "### Load and Output the Images"
   ]
  },
  {
   "cell_type": "code",
   "execution_count": 15,
   "metadata": {},
   "outputs": [
    {
     "data": {
      "text/plain": [
       "<matplotlib.image.AxesImage at 0x20284a1c860>"
      ]
     },
     "execution_count": 15,
     "metadata": {},
     "output_type": "execute_result"
    },
    {
     "data": {
      "image/png": "[encoded data removed]",
      "text/plain": [
       "<matplotlib.figure.Figure at 0x2024d2225c0>"
      ]
     },
     "metadata": {},
     "output_type": "display_data"
    }
   ],
   "source": [
    "### Load the images and plot them here.\n",
    "### Feel free to use as many code cells as needed.\n",
    "import matplotlib.pyplot as plt\n",
    "import cv2\n",
    "%matplotlib inline\n",
    "\n",
    "def load_and_resize_image(file_path):\n",
    "    img = plt.imread(file_path)\n",
    "    return cv2.resize(img, (32,32), interpolation=cv2.INTER_AREA)\n",
    "\n",
    "image_bicycle = load_and_resize_image('examples/easy/sign-bicycle-crossing.jpg')\n",
    "label_bicycle = 29\n",
    "\n",
    "image_ice_snow = load_and_resize_image('examples/easy/sign-ice-snow.jpg')\n",
    "label_ice_snow = 30\n",
    "\n",
    "image_no_passing = load_and_resize_image('examples/easy/sign-no-passing.jpg')\n",
    "label_no_passing = 9\n",
    "\n",
    "image_pedestrian = load_and_resize_image('examples/easy/sign-pedestrian.jpg')\n",
    "label_pedestrian = 27\n",
    "\n",
    "image_speed_30 = load_and_resize_image('examples/easy/sign-speed-limit-30.jpg')\n",
    "label_speed_30 = 1\n",
    "\n",
    "plt.subplot(231)\n",
    "plt.imshow(image_bicycle)\n",
    "plt.subplot(232)\n",
    "plt.imshow(image_ice_snow)\n",
    "plt.subplot(233)\n",
    "plt.imshow(image_no_passing)\n",
    "plt.subplot(234)\n",
    "plt.imshow(image_pedestrian)\n",
    "plt.subplot(235)\n",
    "plt.imshow(image_speed_30)\n"
   ]
  },
  {
   "cell_type": "markdown",
   "metadata": {},
   "source": [
    "### Predict the Sign Type for Each Image"
   ]
  },
  {
   "cell_type": "code",
   "execution_count": 16,
   "metadata": {},
   "outputs": [],
   "source": [
    "### Run the predictions here and use the model to output the prediction for each image.\n",
    "### Make sure to pre-process the images with the same pre-processing pipeline used earlier.\n",
    "### Feel free to use as many code cells as needed.\n",
    "\n",
    "tf.logging.set_verbosity(tf.logging.ERROR)\n",
    "\n",
    "def show_prediction(image, true_label):\n",
    "    print('True label: ' + sign_names[true_label])\n",
    "    prep_img = preprocess_image(image)\n",
    "    with tf.Session() as sess:\n",
    "        saver.restore(sess, tf.train.latest_checkpoint('.'))\n",
    "        feed_dict = {x: [prep_img], keep_prob: 1.0}\n",
    "        pred_label = sess.run(tf.argmax(logits, 1), feed_dict=feed_dict)\n",
    "        print('Predicted label: ' + sign_names[pred_label[0]])\n",
    "    plt.imshow(image)\n"
   ]
  },
  {
   "cell_type": "code",
   "execution_count": 17,
   "metadata": {},
   "outputs": [
    {
     "name": "stdout",
     "output_type": "stream",
     "text": [
      "True label: Bicycles crossing\n",
      "Predicted label: Bicycles crossing\n"
     ]
    },
    {
     "data": {
      "image/png": "[encoded data removed]",
      "text/plain": [
       "<matplotlib.figure.Figure at 0x2024dafe208>"
      ]
     },
     "metadata": {},
     "output_type": "display_data"
    }
   ],
   "source": [
    "show_prediction(image_bicycle, label_bicycle)"
   ]
  },
  {
   "cell_type": "code",
   "execution_count": 18,
   "metadata": {},
   "outputs": [
    {
     "name": "stdout",
     "output_type": "stream",
     "text": [
      "True label: Beware of ice/snow\n",
      "Predicted label: Beware of ice/snow\n"
     ]
    },
    {
     "data": {
      "image/png": "[encoded data removed]",
      "text/plain": [
       "<matplotlib.figure.Figure at 0x20284a367b8>"
      ]
     },
     "metadata": {},
     "output_type": "display_data"
    }
   ],
   "source": [
    "show_prediction(image_ice_snow, label_ice_snow)"
   ]
  },
  {
   "cell_type": "code",
   "execution_count": 19,
   "metadata": {},
   "outputs": [
    {
     "name": "stdout",
     "output_type": "stream",
     "text": [
      "True label: No passing\n",
      "Predicted label: No passing\n"
     ]
    },
    {
     "data": {
      "image/png": "[encoded data removed]",
      "text/plain": [
       "<matplotlib.figure.Figure at 0x20272d18438>"
      ]
     },
     "metadata": {},
     "output_type": "display_data"
    }
   ],
   "source": [
    "show_prediction(image_no_passing, label_no_passing)"
   ]
  },
  {
   "cell_type": "code",
   "execution_count": 20,
   "metadata": {},
   "outputs": [
    {
     "name": "stdout",
     "output_type": "stream",
     "text": [
      "True label: Pedestrians\n",
      "Predicted label: Right-of-way at the next intersection\n"
     ]
    },
    {
     "data": {
      "image/png": "[encoded data removed]",
      "text/plain": [
       "<matplotlib.figure.Figure at 0x202800f4080>"
      ]
     },
     "metadata": {},
     "output_type": "display_data"
    }
   ],
   "source": [
    "show_prediction(image_pedestrian, label_pedestrian)"
   ]
  },
  {
   "cell_type": "code",
   "execution_count": 21,
   "metadata": {},
   "outputs": [
    {
     "name": "stdout",
     "output_type": "stream",
     "text": [
      "True label: Speed limit (30km/h)\n",
      "Predicted label: Speed limit (30km/h)\n"
     ]
    },
    {
     "data": {
      "image/png": "[encoded data removed]",
      "text/plain": [
       "<matplotlib.figure.Figure at 0x202562680b8>"
      ]
     },
     "metadata": {},
     "output_type": "display_data"
    }
   ],
   "source": [
    "show_prediction(image_speed_30, label_speed_30)"
   ]
  },
  {
   "cell_type": "markdown",
   "metadata": {},
   "source": [
    "### Analyze Performance"
   ]
  },
  {
   "cell_type": "code",
   "execution_count": 22,
   "metadata": {},
   "outputs": [
    {
     "name": "stdout",
     "output_type": "stream",
     "text": [
      "Accuracy on 5 examples: 80%\n"
     ]
    }
   ],
   "source": [
    "### Calculate the accuracy for these 5 new images. \n",
    "### For example, if the model predicted 1 out of 5 signs correctly, it's 20% accurate on these new images.\n",
    "\n",
    "example_images = [\n",
    "    preprocess_image(image_bicycle),\n",
    "    preprocess_image(image_ice_snow),\n",
    "    preprocess_image(image_no_passing),\n",
    "    preprocess_image(image_pedestrian),\n",
    "    preprocess_image(image_speed_30)\n",
    "]\n",
    "\n",
    "example_labels = [\n",
    "    label_bicycle,\n",
    "    label_ice_snow,\n",
    "    label_no_passing,\n",
    "    label_pedestrian,\n",
    "    label_speed_30\n",
    "]\n",
    "\n",
    "with tf.Session() as sess:\n",
    "    saver.restore(sess, tf.train.latest_checkpoint('.'))\n",
    "    feed_dict = {x: example_images, y: example_labels, keep_prob: 1.0}\n",
    "    accuracy = sess.run(accuracy_op, feed_dict=feed_dict)\n",
    "    print('Accuracy on 5 examples: %d%%' % (int(accuracy*100)))\n"
   ]
  },
  {
   "cell_type": "markdown",
   "metadata": {},
   "source": [
    "### Output Top 5 Softmax Probabilities For Each Image Found on the Web"
   ]
  },
  {
   "cell_type": "markdown",
   "metadata": {},
   "source": [
    "For each of the new images, print out the model's softmax probabilities to show the **certainty** of the model's predictions (limit the output to the top 5 probabilities for each image). [`tf.nn.top_k`](https://www.tensorflow.org/versions/r0.12/api_docs/python/nn.html#top_k) could prove helpful here. \n",
    "\n",
    "The example below demonstrates how tf.nn.top_k can be used to find the top k predictions for each image.\n",
    "\n",
    "`tf.nn.top_k` will return the values and indices (class ids) of the top k predictions. So if k=3, for each sign, it'll return the 3 largest probabilities (out of a possible 43) and the correspoding class ids.\n",
    "\n",
    "Take this numpy array as an example. The values in the array represent predictions. The array contains softmax probabilities for five candidate images with six possible classes. `tf.nn.top_k` is used to choose the three classes with the highest probability:\n",
    "\n",
    "```\n",
    "# (5, 6) array\n",
    "a = np.array([[ 0.24879643,  0.07032244,  0.12641572,  0.34763842,  0.07893497,\n",
    "         0.12789202],\n",
    "       [ 0.28086119,  0.27569815,  0.08594638,  0.0178669 ,  0.18063401,\n",
    "         0.15899337],\n",
    "       [ 0.26076848,  0.23664738,  0.08020603,  0.07001922,  0.1134371 ,\n",
    "         0.23892179],\n",
    "       [ 0.11943333,  0.29198961,  0.02605103,  0.26234032,  0.1351348 ,\n",
    "         0.16505091],\n",
    "       [ 0.09561176,  0.34396535,  0.0643941 ,  0.16240774,  0.24206137,\n",
    "         0.09155967]])\n",
    "```\n",
    "\n",
    "Running it through `sess.run(tf.nn.top_k(tf.constant(a), k=3))` produces:\n",
    "\n",
    "```\n",
    "TopKV2(values=array([[ 0.34763842,  0.24879643,  0.12789202],\n",
    "       [ 0.28086119,  0.27569815,  0.18063401],\n",
    "       [ 0.26076848,  0.23892179,  0.23664738],\n",
    "       [ 0.29198961,  0.26234032,  0.16505091],\n",
    "       [ 0.34396535,  0.24206137,  0.16240774]]), indices=array([[3, 0, 5],\n",
    "       [0, 1, 4],\n",
    "       [0, 5, 1],\n",
    "       [1, 3, 5],\n",
    "       [1, 4, 3]], dtype=int32))\n",
    "```\n",
    "\n",
    "Looking just at the first row we get `[ 0.34763842,  0.24879643,  0.12789202]`, you can confirm these are the 3 largest probabilities in `a`. You'll also notice `[3, 0, 5]` are the corresponding indices."
   ]
  },
  {
   "cell_type": "code",
   "execution_count": 23,
   "metadata": {},
   "outputs": [],
   "source": [
    "### Print out the top five softmax probabilities for the predictions on the German traffic sign images found on the web. \n",
    "### Feel free to use as many code cells as needed.\n",
    "\n",
    "def show_top5(image, true_label):\n",
    "    print('True label: ' + sign_names[true_label])\n",
    "    print()\n",
    "    with tf.Session() as sess:\n",
    "        saver.restore(sess, tf.train.latest_checkpoint('.'))\n",
    "        top5_probs, top5_labels = sess.run(\n",
    "            tf.nn.top_k(tf.nn.softmax(logits), k=5), \n",
    "            feed_dict={x: [preprocess_image(image)], keep_prob: 1.0})\n",
    "        for i in range(5):\n",
    "            print('#%d prediction: %s' % (i+1, sign_names[top5_labels[0][i]]))\n",
    "            print('Probability: %.2f%%' % (top5_probs[0][i]*100))\n",
    "            print()\n",
    "    plt.imshow(image)\n"
   ]
  },
  {
   "cell_type": "code",
   "execution_count": 24,
   "metadata": {},
   "outputs": [
    {
     "name": "stdout",
     "output_type": "stream",
     "text": [
      "True label: Bicycles crossing\n",
      "\n",
      "#1 prediction: Bicycles crossing\n",
      "Probability: 66.91%\n",
      "\n",
      "#2 prediction: Beware of ice/snow\n",
      "Probability: 13.06%\n",
      "\n",
      "#3 prediction: Children crossing\n",
      "Probability: 8.74%\n",
      "\n",
      "#4 prediction: Road work\n",
      "Probability: 5.53%\n",
      "\n",
      "#5 prediction: Bumpy road\n",
      "Probability: 1.36%\n",
      "\n"
     ]
    },
    {
     "data": {
      "image/png": "[encoded data removed]",
      "text/plain": [
       "<matplotlib.figure.Figure at 0x2027cce9d30>"
      ]
     },
     "metadata": {},
     "output_type": "display_data"
    }
   ],
   "source": [
    "show_top5(image_bicycle, label_bicycle)"
   ]
  },
  {
   "cell_type": "code",
   "execution_count": 25,
   "metadata": {},
   "outputs": [
    {
     "name": "stdout",
     "output_type": "stream",
     "text": [
      "True label: Beware of ice/snow\n",
      "\n",
      "#1 prediction: Beware of ice/snow\n",
      "Probability: 76.89%\n",
      "\n",
      "#2 prediction: Right-of-way at the next intersection\n",
      "Probability: 22.43%\n",
      "\n",
      "#3 prediction: Speed limit (100km/h)\n",
      "Probability: 0.60%\n",
      "\n",
      "#4 prediction: Double curve\n",
      "Probability: 0.03%\n",
      "\n",
      "#5 prediction: Road work\n",
      "Probability: 0.01%\n",
      "\n"
     ]
    },
    {
     "data": {
      "image/png": "[encoded data removed]",
      "text/plain": [
       "<matplotlib.figure.Figure at 0x2026fce6f60>"
      ]
     },
     "metadata": {},
     "output_type": "display_data"
    }
   ],
   "source": [
    "show_top5(image_ice_snow, label_ice_snow)"
   ]
  },
  {
   "cell_type": "code",
   "execution_count": 26,
   "metadata": {},
   "outputs": [
    {
     "name": "stdout",
     "output_type": "stream",
     "text": [
      "True label: No passing\n",
      "\n",
      "#1 prediction: No passing\n",
      "Probability: 99.89%\n",
      "\n",
      "#2 prediction: No passing for vehicles over 3.5 metric tons\n",
      "Probability: 0.08%\n",
      "\n",
      "#3 prediction: No vehicles\n",
      "Probability: 0.01%\n",
      "\n",
      "#4 prediction: Vehicles over 3.5 metric tons prohibited\n",
      "Probability: 0.01%\n",
      "\n",
      "#5 prediction: End of no passing\n",
      "Probability: 0.01%\n",
      "\n"
     ]
    },
    {
     "data": {
      "image/png": "[encoded data removed]",
      "text/plain": [
       "<matplotlib.figure.Figure at 0x2026fcb9390>"
      ]
     },
     "metadata": {},
     "output_type": "display_data"
    }
   ],
   "source": [
    "show_top5(image_no_passing, label_no_passing)"
   ]
  },
  {
   "cell_type": "code",
   "execution_count": 27,
   "metadata": {},
   "outputs": [
    {
     "name": "stdout",
     "output_type": "stream",
     "text": [
      "True label: Pedestrians\n",
      "\n",
      "#1 prediction: Right-of-way at the next intersection\n",
      "Probability: 52.91%\n",
      "\n",
      "#2 prediction: Pedestrians\n",
      "Probability: 41.83%\n",
      "\n",
      "#3 prediction: General caution\n",
      "Probability: 4.44%\n",
      "\n",
      "#4 prediction: Double curve\n",
      "Probability: 0.55%\n",
      "\n",
      "#5 prediction: Road narrows on the right\n",
      "Probability: 0.22%\n",
      "\n"
     ]
    },
    {
     "data": {
      "image/png": "[encoded data removed]",
      "text/plain": [
       "<matplotlib.figure.Figure at 0x2028c117ba8>"
      ]
     },
     "metadata": {},
     "output_type": "display_data"
    }
   ],
   "source": [
    "show_top5(image_pedestrian, label_pedestrian)"
   ]
  },
  {
   "cell_type": "code",
   "execution_count": 28,
   "metadata": {},
   "outputs": [
    {
     "name": "stdout",
     "output_type": "stream",
     "text": [
      "True label: Speed limit (30km/h)\n",
      "\n",
      "#1 prediction: Speed limit (30km/h)\n",
      "Probability: 99.99%\n",
      "\n",
      "#2 prediction: Speed limit (20km/h)\n",
      "Probability: 0.01%\n",
      "\n",
      "#3 prediction: Speed limit (70km/h)\n",
      "Probability: 0.00%\n",
      "\n",
      "#4 prediction: Speed limit (50km/h)\n",
      "Probability: 0.00%\n",
      "\n",
      "#5 prediction: Speed limit (80km/h)\n",
      "Probability: 0.00%\n",
      "\n"
     ]
    },
    {
     "data": {
      "image/png": "[encoded data removed]",
      "text/plain": [
       "<matplotlib.figure.Figure at 0x20258f12eb8>"
      ]
     },
     "metadata": {},
     "output_type": "display_data"
    }
   ],
   "source": [
    "show_top5(image_speed_30, label_speed_30)"
   ]
  },
  {
   "cell_type": "markdown",
   "metadata": {},
   "source": [
    "### Project Writeup\n",
    "\n",
    "Once you have completed the code implementation, document your results in a project writeup using this [template](https://github.com/udacity/CarND-Traffic-Sign-Classifier-Project/blob/master/writeup_template.md) as a guide. The writeup can be in a markdown or pdf file. "
   ]
  },
  {
   "cell_type": "markdown",
   "metadata": {},
   "source": [
    "> **Note**: Once you have completed all of the code implementations and successfully answered each question above, you may finalize your work by exporting the iPython Notebook as an HTML document. You can do this by using the menu above and navigating to  \\n\",\n",
    "    \"**File -> Download as -> HTML (.html)**. Include the finished document along with this notebook as your submission."
   ]
  },
  {
   "cell_type": "markdown",
   "metadata": {},
   "source": [
    "---\n",
    "\n",
    "## Step 4 (Optional): Visualize the Neural Network's State with Test Images\n",
    "\n",
    " This Section is not required to complete but acts as an additional excersise for understaning the output of a neural network's weights. While neural networks can be a great learning device they are often referred to as a black box. We can understand what the weights of a neural network look like better by plotting their feature maps. After successfully training your neural network you can see what it's feature maps look like by plotting the output of the network's weight layers in response to a test stimuli image. From these plotted feature maps, it's possible to see what characteristics of an image the network finds interesting. For a sign, maybe the inner network feature maps react with high activation to the sign's boundary outline or to the contrast in the sign's painted symbol.\n",
    "\n",
    " Provided for you below is the function code that allows you to get the visualization output of any tensorflow weight layer you want. The inputs to the function should be a stimuli image, one used during training or a new one you provided, and then the tensorflow variable name that represents the layer's state during the training process, for instance if you wanted to see what the [LeNet lab's](https://classroom.udacity.com/nanodegrees/nd013/parts/fbf77062-5703-404e-b60c-95b78b2f3f9e/modules/6df7ae49-c61c-4bb2-a23e-6527e69209ec/lessons/601ae704-1035-4287-8b11-e2c2716217ad/concepts/d4aca031-508f-4e0b-b493-e7b706120f81) feature maps looked like for it's second convolutional layer you could enter conv2 as the tf_activation variable.\n",
    "\n",
    "For an example of what feature map outputs look like, check out NVIDIA's results in their paper [End-to-End Deep Learning for Self-Driving Cars](https://devblogs.nvidia.com/parallelforall/deep-learning-self-driving-cars/) in the section Visualization of internal CNN State. NVIDIA was able to show that their network's inner weights had high activations to road boundary lines by comparing feature maps from an image with a clear path to one without. Try experimenting with a similar test to show that your trained network's weights are looking for interesting features, whether it's looking at differences in feature maps from images with or without a sign, or even what feature maps look like in a trained network vs a completely untrained one on the same sign image.\n",
    "\n",
    "<figure>\n",
    " <img src=\"visualize_cnn.png\" width=\"380\" alt=\"Combined Image\" />\n",
    " <figcaption>\n",
    " <p></p> \n",
    " <p style=\"text-align: center;\"> Your output should look something like this (above)</p> \n",
    " </figcaption>\n",
    "</figure>\n",
    " <p></p> \n"
   ]
  },
  {
   "cell_type": "code",
   "execution_count": 29,
   "metadata": {},
   "outputs": [],
   "source": [
    "### Visualize your network's feature maps here.\n",
    "### Feel free to use as many code cells as needed.\n",
    "\n",
    "# image_input: the test image being fed into the network to produce the feature maps\n",
    "# tf_activation: should be a tf variable name used during your training procedure that represents the calculated state of a specific weight layer\n",
    "# activation_min/max: can be used to view the activation contrast in more detail, by default matplot sets min and max to the actual min and max values of the output\n",
    "# plt_num: used to plot out multiple different weight feature map sets on the same block, just extend the plt number for each new feature map entry\n",
    "\n",
    "def outputFeatureMap(image_input, tf_activation, activation_min=-1, activation_max=-1 ,plt_num=1):\n",
    "    # Here make sure to preprocess your image_input in a way your network expects\n",
    "    # with size, normalization, ect if needed\n",
    "    # image_input =\n",
    "    # Note: x should be the same name as your network's tensorflow data placeholder variable\n",
    "    # If you get an error tf_activation is not defined it may be having trouble accessing the variable from inside a function\n",
    "    activation = tf_activation.eval(session=sess,feed_dict={x : image_input})\n",
    "    featuremaps = activation.shape[3]\n",
    "    plt.figure(plt_num, figsize=(15,15))\n",
    "    for featuremap in range(featuremaps):\n",
    "        plt.subplot(6,8, featuremap+1) # sets the number of feature maps to show on each row and column\n",
    "        plt.title('FeatureMap ' + str(featuremap)) # displays the feature map number\n",
    "        if activation_min != -1 & activation_max != -1:\n",
    "            plt.imshow(activation[0,:,:, featuremap], interpolation=\"nearest\", vmin =activation_min, vmax=activation_max, cmap=\"gray\")\n",
    "        elif activation_max != -1:\n",
    "            plt.imshow(activation[0,:,:, featuremap], interpolation=\"nearest\", vmax=activation_max, cmap=\"gray\")\n",
    "        elif activation_min !=-1:\n",
    "            plt.imshow(activation[0,:,:, featuremap], interpolation=\"nearest\", vmin=activation_min, cmap=\"gray\")\n",
    "        else:\n",
    "            plt.imshow(activation[0,:,:, featuremap], interpolation=\"nearest\", cmap=\"gray\")"
   ]
  }
 ],
 "metadata": {
  "anaconda-cloud": {},
  "kernelspec": {
   "display_name": "Python 3",
   "language": "python",
   "name": "python3"
  },
  "language_info": {
   "codemirror_mode": {
    "name": "ipython",
    "version": 3
   },
   "file_extension": ".py",
   "mimetype": "text/x-python",
   "name": "python",
   "nbconvert_exporter": "python",
   "pygments_lexer": "ipython3",
   "version": "3.5.2"
  },
  "widgets": {
   "state": {},
   "version": "1.1.2"
  }
 },
 "nbformat": 4,
 "nbformat_minor": 1
}
